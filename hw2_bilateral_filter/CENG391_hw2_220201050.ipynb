{
 "cells": [
  {
   "cell_type": "code",
   "execution_count": 1,
   "metadata": {},
   "outputs": [],
   "source": [
    "#Nisa Pinar Ruzgar 220201050\n",
    "import numpy as np\n",
    "import cv2\n",
    "import math\n",
    "\n",
    "            \n",
    "def spatial_dist_matrix(windowSize, sigma):             # to calculate the spatial distances only once for a nxn matrix\n",
    "    spatial_matrix = [[0 for x in range(windowSize)] for y in range(windowSize)]                 # n = windowSize\n",
    "    \n",
    "    if windowSize % 2 == 1:\n",
    "        r = int((windowSize - 1) / 2)\n",
    "        sp_kernelSum = 0\n",
    "        \n",
    "        for i in range (0, windowSize):\n",
    "            for j in range (0, windowSize):\n",
    "                dist = getDist(i, j, r, r)\n",
    "                val = gaussian_f(dist, sigma)\n",
    "                spatial_matrix[i][j] = val\n",
    "                sp_kernelSum = sp_kernelSum + val\n",
    "    else:\n",
    "        print(\"Window size should be odd.\")\n",
    "        \n",
    "    return spatial_matrix , sp_kernelSum\n",
    "   \n",
    "    \n",
    "def gaussian_f(dist, sigma):\n",
    "    return (1/ (2 * math.pi * sigma * sigma)) * math.exp(- (dist**2) / (2 * sigma**2 ) )\n",
    "    \n",
    "def getDist(x1, y1, x2, y2):\n",
    "    return math.sqrt((x1 - x2)**2 + (y1 - y2)**2)\n",
    "\n",
    "def bilateral_f(img, img_filtered, windowSize, sp_sigma , inten_sigma):\n",
    "    if windowSize % 2 == 1:\n",
    "        \n",
    "        h,w = img.shape[:2]                                       # to determine the range of i and j\n",
    "        spatialKernel , sp_kernelSum = spatial_dist_matrix(windowSize, sp_sigma)\n",
    "        radius = int((windowSize - 1) / 2)\n",
    "\n",
    "        for i in range (0 , h - windowSize):       # i and j are for looping through the whole image\n",
    "            for j in range(0, w - windowSize):\n",
    "                pixVal = 0\n",
    "                Wp = 0                   # Normalization term\n",
    "\n",
    "                x  = 0\n",
    "                for r in range(i, i + windowSize):      # r and c for looping through the nxn window\n",
    "                    y = 0\n",
    "                    for c in range(j, j + windowSize):\n",
    "                        intensity = gaussian_f( int(img[r][c]) - int(img[i+radius][j+radius] ), inten_sigma)\n",
    "                        g = intensity *  spatialKernel[x][y]\n",
    "                        pixVal = (pixVal + (  g * img[r][c])) \n",
    "                        Wp = Wp + g\n",
    "\n",
    "                        y = y + 1\n",
    "                    x = x + 1\n",
    "\n",
    "                normalizedPixVal =  int (round (pixVal / Wp)) \n",
    "\n",
    "                if (normalizedPixVal> 255):          # check if overflow occured\n",
    "                    normalizedPixVal = 255\n",
    "                elif (normalizedPixVal < 0):\n",
    "                    normalizedPixVal = 0 \n",
    "\n",
    "                img_filtered[i + radius][j + radius] = normalizedPixVal\n",
    "\n",
    "    else:\n",
    "        print (\"Window size should be odd.\")\n",
    "\n",
    "\n",
    "\n",
    "\n"
   ]
  },
  {
   "cell_type": "code",
   "execution_count": 2,
   "metadata": {},
   "outputs": [
    {
     "data": {
      "text/plain": [
       "True"
      ]
     },
     "execution_count": 2,
     "metadata": {},
     "output_type": "execute_result"
    }
   ],
   "source": [
    "img = cv2.imread(\"in_img.jpg\",0)\n",
    "img_filtered = cv2.imread(\"in_img.jpg\",0)\n",
    "\n",
    "bilateral_f(img, img_filtered, 7, 10, 10)\n",
    "cv2.imwrite(\"filtered_image_own.png\",img_filtered)\n",
    "\n",
    "img2 = cv2.imread(\"in_img.jpg\",0)\n",
    "img2 = cv2.bilateralFilter(img2,7,10,10)\n",
    "cv2.imwrite(\"filtered_image_OpenCV.png\",img2)\n"
   ]
  },
  {
   "cell_type": "code",
   "execution_count": null,
   "metadata": {},
   "outputs": [],
   "source": [
    "# If we increase spatial sigma, larger features are smoothened more.\n",
    "# If we increase intensity sigma, the bilateral filter gets closer to Gaussian convolution. \n",
    "\n",
    "#ödevde border handling eksik\n"
   ]
  }
 ],
 "metadata": {
  "kernelspec": {
   "display_name": "Python 3",
   "language": "python",
   "name": "python3"
  },
  "language_info": {
   "codemirror_mode": {
    "name": "ipython",
    "version": 3
   },
   "file_extension": ".py",
   "mimetype": "text/x-python",
   "name": "python",
   "nbconvert_exporter": "python",
   "pygments_lexer": "ipython3",
   "version": "3.6.3"
  }
 },
 "nbformat": 4,
 "nbformat_minor": 2
}
