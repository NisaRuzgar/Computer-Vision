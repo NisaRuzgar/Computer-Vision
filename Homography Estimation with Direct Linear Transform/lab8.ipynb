{
 "cells": [
  {
   "cell_type": "code",
   "execution_count": 1,
   "metadata": {},
   "outputs": [
    {
     "data": {
      "text/plain": [
       "True"
      ]
     },
     "execution_count": 1,
     "metadata": {},
     "output_type": "execute_result"
    }
   ],
   "source": [
    "import cv2\n",
    "\n",
    "import math\n",
    "import numpy.linalg as lin\n",
    "\n",
    "from numpy import *\n",
    "import numpy as np\n",
    "from scipy import linalg\n",
    "\n",
    "def readFile(fileName):\n",
    "    fin = open(fileName)\n",
    "    f = fin.read()\n",
    "    fin.close()\n",
    "    return f\n",
    "\n",
    "def readPoints(string):\n",
    "    \n",
    "    sourcePoints = [[0 for x in range(20)] for y in range(3)]\n",
    "    destPoints = [[0 for x in range(20)] for y in range(3)]\n",
    "    \n",
    "    i = 0\n",
    "    for line in string.strip().split(\"\\n\"):\n",
    "        \n",
    "        points = line.strip().split(\",\")\n",
    "        p1 = points[0].strip().split(\" \")\n",
    "        p2 = points[1].strip().split(\" \")\n",
    "        \n",
    "        sourcePoints[0][i] = float(p1[0])\n",
    "        sourcePoints[1][i] = float(p1[1])\n",
    "        sourcePoints[2][i] = 1\n",
    "\n",
    "        destPoints[0][i] = float(p2[0])\n",
    "        destPoints[1][i] = float(p2[1])\n",
    "        destPoints[2][i] = 1\n",
    "            \n",
    "        i = i + 1\n",
    "    return sourcePoints, destPoints\n",
    "\n",
    "\n",
    "def H_from_points(fp,tp):\n",
    "    if fp.shape != tp.shape:\n",
    "        raise RuntimeError('number of points do not match')\n",
    "        \n",
    "    # condition points (important for numerical reasons)\n",
    "    # --from points--\n",
    "    m = mean(fp[:2], axis=1)\n",
    "    maxstd = max(std(fp[:2], axis=1)) + 1e-9    #1e-9 niye var?\n",
    "    C1 = diag([1/maxstd, 1/maxstd, 1]) \n",
    "    C1[0][2] = -m[0]/maxstd\n",
    "    C1[1][2] = -m[1]/maxstd\n",
    "    fp = dot(C1,fp)\n",
    "    \n",
    "    # --to points--\n",
    "    m = mean(tp[:2], axis=1)\n",
    "    maxstd = max(std(tp[:2], axis=1)) + 1e-9\n",
    "    C2 = diag([1/maxstd, 1/maxstd, 1])\n",
    "    C2[0][2] = -m[0]/maxstd\n",
    "    C2[1][2] = -m[1]/maxstd\n",
    "    tp = dot(C2,tp)\n",
    "    \n",
    "    # create matrix for linear method, 2 rows for each correspondence pair\n",
    "    nbr_correspondences = fp.shape[1]\n",
    "    A = zeros((2*nbr_correspondences,9))\n",
    "    for i in range(nbr_correspondences):        \n",
    "        A[2*i] = [0,0,0,-fp[0][i],-fp[1][i],-1,\n",
    "                    tp[1][i]*fp[0][i],tp[1][i]*fp[1][i],tp[1][i]]\n",
    "            \n",
    "        A[2*i+1] = [fp[0][i],fp[1][i],1,0,0,0,\n",
    "                    -tp[0][i]*fp[0][i],-tp[0][i]*fp[1][i],-tp[0][i]]\n",
    "    \n",
    "    U,S,V = linalg.svd(A)\n",
    "    H = V[8].reshape((3,3))    \n",
    "    \n",
    "    # decondition\n",
    "    H = dot(linalg.inv(C2),dot(H,C1))\n",
    "    \n",
    "    # normalize and return\n",
    "    return H / H[2,2]\n",
    "\n",
    "        \n",
    "img = cv2.imread(\"in.jpg\", 0)\n",
    "\n",
    "\n",
    "fContent = readFile(\"corrs.txt\")\n",
    "srcPoints, destPoints = readPoints(fContent)\n",
    "\n",
    "srcPoints = np.array(srcPoints)\n",
    "destPoints = np.array(destPoints)\n",
    "\n",
    "F = H_from_points(srcPoints,destPoints)\n",
    "\n",
    "\n",
    "warped = cv2.warpPerspective(img, F, (800, 800))\n",
    "cv2.imwrite(\"warped.jpg\", warped)"
   ]
  },
  {
   "cell_type": "code",
   "execution_count": 5,
   "metadata": {},
   "outputs": [
    {
     "data": {
      "text/plain": [
       "True"
      ]
     },
     "execution_count": 5,
     "metadata": {},
     "output_type": "execute_result"
    }
   ],
   "source": []
  },
  {
   "cell_type": "code",
   "execution_count": null,
   "metadata": {},
   "outputs": [],
   "source": []
  },
  {
   "cell_type": "code",
   "execution_count": null,
   "metadata": {},
   "outputs": [],
   "source": []
  }
 ],
 "metadata": {
  "kernelspec": {
   "display_name": "Python 3",
   "language": "python",
   "name": "python3"
  },
  "language_info": {
   "codemirror_mode": {
    "name": "ipython",
    "version": 3
   },
   "file_extension": ".py",
   "mimetype": "text/x-python",
   "name": "python",
   "nbconvert_exporter": "python",
   "pygments_lexer": "ipython3",
   "version": "3.6.3"
  }
 },
 "nbformat": 4,
 "nbformat_minor": 2
}
